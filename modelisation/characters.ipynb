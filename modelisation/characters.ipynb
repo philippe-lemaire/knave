{
 "cells": [
  {
   "cell_type": "code",
   "execution_count": 1,
   "id": "8219b553-1e20-46c4-b521-c0ed9ea70cbd",
   "metadata": {},
   "outputs": [],
   "source": [
    "from careers import CAREERS\n",
    "from spells import SPELLS"
   ]
  },
  {
   "cell_type": "code",
   "execution_count": 19,
   "id": "e1fb4262-d6a3-4ce4-a5f4-0d40c0c7232a",
   "metadata": {},
   "outputs": [],
   "source": [
    "import random\n",
    "\n",
    "class Character:\n",
    "\n",
    "    def __init__(self, STR=0, DEX=0, CON=0, INT=0, WIS=0, CHA=0):\n",
    "        attributes = [STR, DEX, CON, INT, WIS, CHA]\n",
    "        if sum(attributes) == 0:\n",
    "            print(\"rolling stats\")\n",
    "            rolled_attr=[random.randint(0, 5) for _ in range(3)]\n",
    "            for i in rolled_attr:\n",
    "                attributes[i] += 1\n",
    "        elif sum(attributes) != 3:\n",
    "            raise ValueError(\"Your initial attributes total shall be 3, not more, not less\")\n",
    "        self.STR,        self.DEX,         self.CON,         self.INT ,        self.WIS,        self.CHA = attributes\n",
    "        self.level = 1\n",
    "        self.xp = 0\n",
    "        self.max_HP = 0\n",
    "        self.update_secondary_stats()\n",
    "        self.careers = random.sample(sorted(CAREERS), 2)\n",
    "        self.inventory = CAREERS.get(self.careers[0]) + CAREERS.get(self.careers[1])\n",
    "        spells = random.sample(sorted(SPELLS), self.INT)\n",
    "        spells = [spell for spell in spells]\n",
    "        if spells:\n",
    "            self.inventory.extend(spells)\n",
    "        \n",
    "    def update_secondary_stats(self):\n",
    "        self.max_slots = self.CON + 10\n",
    "        \n",
    "        new_hp_roll = sum([random.randint(1, 6) for _ in range(self.level) ])\n",
    "        if new_hp_roll > self.max_HP:\n",
    "            self.max_HP = new_hp_roll\n",
    "        else:\n",
    "            self.max_HP += 1\n",
    "    def level_up(self, attr):\n",
    "        if attr not in dir(self):\n",
    "            raise ValueError(f\"Invalid attribute {attr}.\")\n",
    "        current_value = getattr(self, attr)\n",
    "        if current_value == 10:\n",
    "            raise ValueError(f\"{attr} already at 10.\")\n",
    "        setattr(self, attr, current_value +1)\n",
    "        \n",
    "        self.level += 1\n",
    "        self.update_secondary_stats()\n",
    "\n",
    "    def __repr__(self):\n",
    "        return f\"Character(STR={self.STR}, DEX={self.DEX}, CON={self.CON}, INT={self.INT}, WIS={self.WIS}, CHA={self.CHA})\""
   ]
  },
  {
   "cell_type": "code",
   "execution_count": 20,
   "id": "70739e87-214f-48ef-b272-81b82ca7ad13",
   "metadata": {},
   "outputs": [],
   "source": [
    "c = Character(CON=1, INT=2)"
   ]
  },
  {
   "cell_type": "code",
   "execution_count": 26,
   "id": "c55e6ab6-0f26-48a0-bb77-242c586a850d",
   "metadata": {},
   "outputs": [
    {
     "ename": "ValueError",
     "evalue": "CON already at 10.",
     "output_type": "error",
     "traceback": [
      "\u001b[0;31m---------------------------------------------------------------------------\u001b[0m",
      "\u001b[0;31mValueError\u001b[0m                                Traceback (most recent call last)",
      "Cell \u001b[0;32mIn[26], line 1\u001b[0m\n\u001b[0;32m----> 1\u001b[0m \u001b[43mc\u001b[49m\u001b[38;5;241;43m.\u001b[39;49m\u001b[43mlevel_up\u001b[49m\u001b[43m(\u001b[49m\u001b[38;5;124;43m\"\u001b[39;49m\u001b[38;5;124;43mCON\u001b[39;49m\u001b[38;5;124;43m\"\u001b[39;49m\u001b[43m)\u001b[49m\n",
      "Cell \u001b[0;32mIn[19], line 39\u001b[0m, in \u001b[0;36mCharacter.level_up\u001b[0;34m(self, attr)\u001b[0m\n\u001b[1;32m     37\u001b[0m current_value \u001b[38;5;241m=\u001b[39m \u001b[38;5;28mgetattr\u001b[39m(\u001b[38;5;28mself\u001b[39m, attr)\n\u001b[1;32m     38\u001b[0m \u001b[38;5;28;01mif\u001b[39;00m current_value \u001b[38;5;241m==\u001b[39m \u001b[38;5;241m10\u001b[39m:\n\u001b[0;32m---> 39\u001b[0m     \u001b[38;5;28;01mraise\u001b[39;00m \u001b[38;5;167;01mValueError\u001b[39;00m(\u001b[38;5;124mf\u001b[39m\u001b[38;5;124m\"\u001b[39m\u001b[38;5;132;01m{\u001b[39;00mattr\u001b[38;5;132;01m}\u001b[39;00m\u001b[38;5;124m already at 10.\u001b[39m\u001b[38;5;124m\"\u001b[39m)\n\u001b[1;32m     40\u001b[0m \u001b[38;5;28msetattr\u001b[39m(\u001b[38;5;28mself\u001b[39m, attr, current_value \u001b[38;5;241m+\u001b[39m\u001b[38;5;241m1\u001b[39m)\n\u001b[1;32m     42\u001b[0m \u001b[38;5;28mself\u001b[39m\u001b[38;5;241m.\u001b[39mlevel \u001b[38;5;241m+\u001b[39m\u001b[38;5;241m=\u001b[39m \u001b[38;5;241m1\u001b[39m\n",
      "\u001b[0;31mValueError\u001b[0m: CON already at 10."
     ]
    }
   ],
   "source": [
    "c.level_up(\"CON\")"
   ]
  },
  {
   "cell_type": "code",
   "execution_count": 27,
   "id": "31757a2d-30c2-472b-a52d-25afa1841a05",
   "metadata": {},
   "outputs": [
    {
     "ename": "ValueError",
     "evalue": "Invalid attribute CONST.",
     "output_type": "error",
     "traceback": [
      "\u001b[0;31m---------------------------------------------------------------------------\u001b[0m",
      "\u001b[0;31mValueError\u001b[0m                                Traceback (most recent call last)",
      "Cell \u001b[0;32mIn[27], line 2\u001b[0m\n\u001b[1;32m      1\u001b[0m \u001b[38;5;28;01mfor\u001b[39;00m _ \u001b[38;5;129;01min\u001b[39;00m \u001b[38;5;28mrange\u001b[39m(\u001b[38;5;241m8\u001b[39m):\n\u001b[0;32m----> 2\u001b[0m     \u001b[43mc\u001b[49m\u001b[38;5;241;43m.\u001b[39;49m\u001b[43mlevel_up\u001b[49m\u001b[43m(\u001b[49m\u001b[38;5;124;43m\"\u001b[39;49m\u001b[38;5;124;43mCONST\u001b[39;49m\u001b[38;5;124;43m\"\u001b[39;49m\u001b[43m)\u001b[49m\n",
      "Cell \u001b[0;32mIn[19], line 36\u001b[0m, in \u001b[0;36mCharacter.level_up\u001b[0;34m(self, attr)\u001b[0m\n\u001b[1;32m     34\u001b[0m \u001b[38;5;28;01mdef\u001b[39;00m \u001b[38;5;21mlevel_up\u001b[39m(\u001b[38;5;28mself\u001b[39m, attr):\n\u001b[1;32m     35\u001b[0m     \u001b[38;5;28;01mif\u001b[39;00m attr \u001b[38;5;129;01mnot\u001b[39;00m \u001b[38;5;129;01min\u001b[39;00m \u001b[38;5;28mdir\u001b[39m(\u001b[38;5;28mself\u001b[39m):\n\u001b[0;32m---> 36\u001b[0m         \u001b[38;5;28;01mraise\u001b[39;00m \u001b[38;5;167;01mValueError\u001b[39;00m(\u001b[38;5;124mf\u001b[39m\u001b[38;5;124m\"\u001b[39m\u001b[38;5;124mInvalid attribute \u001b[39m\u001b[38;5;132;01m{\u001b[39;00mattr\u001b[38;5;132;01m}\u001b[39;00m\u001b[38;5;124m.\u001b[39m\u001b[38;5;124m\"\u001b[39m)\n\u001b[1;32m     37\u001b[0m     current_value \u001b[38;5;241m=\u001b[39m \u001b[38;5;28mgetattr\u001b[39m(\u001b[38;5;28mself\u001b[39m, attr)\n\u001b[1;32m     38\u001b[0m     \u001b[38;5;28;01mif\u001b[39;00m current_value \u001b[38;5;241m==\u001b[39m \u001b[38;5;241m10\u001b[39m:\n",
      "\u001b[0;31mValueError\u001b[0m: Invalid attribute CONST."
     ]
    }
   ],
   "source": [
    "for _ in range(8):\n",
    "    c.level_up(\"CONST\")"
   ]
  },
  {
   "cell_type": "code",
   "execution_count": 28,
   "id": "95fc0b27-41b1-4aa8-98a5-6712ba927e71",
   "metadata": {},
   "outputs": [
    {
     "data": {
      "text/plain": [
       "20"
      ]
     },
     "execution_count": 28,
     "metadata": {},
     "output_type": "execute_result"
    }
   ],
   "source": [
    "c.max_slots"
   ]
  },
  {
   "cell_type": "code",
   "execution_count": null,
   "id": "99f8fb7b-054b-429f-b51d-1612d03c996e",
   "metadata": {},
   "outputs": [],
   "source": []
  }
 ],
 "metadata": {
  "kernelspec": {
   "display_name": "Python 3 (ipykernel)",
   "language": "python",
   "name": "python3"
  },
  "language_info": {
   "codemirror_mode": {
    "name": "ipython",
    "version": 3
   },
   "file_extension": ".py",
   "mimetype": "text/x-python",
   "name": "python",
   "nbconvert_exporter": "python",
   "pygments_lexer": "ipython3",
   "version": "3.11.4"
  }
 },
 "nbformat": 4,
 "nbformat_minor": 5
}
