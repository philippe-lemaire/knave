{
 "cells": [
  {
   "cell_type": "code",
   "execution_count": 1,
   "id": "a4c03cb5-5587-49e0-bc9e-bbaba1833137",
   "metadata": {},
   "outputs": [],
   "source": [
    "from careers import CAREERS as c"
   ]
  },
  {
   "cell_type": "code",
   "execution_count": 2,
   "id": "56e3237b-eb00-4b49-ab4a-5a648a4429d3",
   "metadata": {},
   "outputs": [
    {
     "data": {
      "text/plain": [
       "['10’ pole', 'instrument', 'paddle']"
      ]
     },
     "execution_count": 2,
     "metadata": {},
     "output_type": "execute_result"
    }
   ],
   "source": [
    "c['Boatman']"
   ]
  },
  {
   "cell_type": "code",
   "execution_count": 3,
   "id": "52ce68bf-62ba-403c-907c-12cc8ed57382",
   "metadata": {},
   "outputs": [],
   "source": [
    "from metric_conversion import convert_to_metric_careers"
   ]
  },
  {
   "cell_type": "code",
   "execution_count": 4,
   "id": "a32e5183-c3fa-4d7c-8b45-08b0cff3d7df",
   "metadata": {},
   "outputs": [
    {
     "data": {
      "text/plain": [
       "['3m pole', 'instrument', 'paddle']"
      ]
     },
     "execution_count": 4,
     "metadata": {},
     "output_type": "execute_result"
    }
   ],
   "source": [
    "convert_to_metric_careers(c)\n",
    "c[\"Boatman\"]"
   ]
  },
  {
   "cell_type": "code",
   "execution_count": 5,
   "id": "cd59d3d3-17d1-4603-9000-4a28b4aa4fd2",
   "metadata": {},
   "outputs": [],
   "source": [
    "from spells import SPELLS\n",
    "from metric_conversion import convert_to_metric_spells"
   ]
  },
  {
   "cell_type": "code",
   "execution_count": 6,
   "id": "7c623ba2-30e1-480f-bccf-bfdeb22754a8",
   "metadata": {},
   "outputs": [
    {
     "data": {
      "text/plain": [
       "'Creates a wall of ice or fire INT × 40’ long, 5’ wide and 10’ tall.  The wall can curve however you want.'"
      ]
     },
     "execution_count": 6,
     "metadata": {},
     "output_type": "execute_result"
    }
   ],
   "source": [
    "SPELLS['Elemental Wall']"
   ]
  },
  {
   "cell_type": "code",
   "execution_count": 7,
   "id": "4f00235f-69a8-47d2-88f5-d8f359183e35",
   "metadata": {},
   "outputs": [
    {
     "data": {
      "text/plain": [
       "'Creates a wall of ice or fire INT × 12m long, 1.5m wide and 3m tall.  The wall can curve however you want.'"
      ]
     },
     "execution_count": 7,
     "metadata": {},
     "output_type": "execute_result"
    }
   ],
   "source": [
    "convert_to_metric_spells(SPELLS)\n",
    "SPELLS['Elemental Wall']"
   ]
  },
  {
   "cell_type": "code",
   "execution_count": null,
   "id": "90839be0-bca5-4f90-98e5-ec621a3c76c1",
   "metadata": {},
   "outputs": [],
   "source": []
  }
 ],
 "metadata": {
  "kernelspec": {
   "display_name": "Python 3 (ipykernel)",
   "language": "python",
   "name": "python3"
  },
  "language_info": {
   "codemirror_mode": {
    "name": "ipython",
    "version": 3
   },
   "file_extension": ".py",
   "mimetype": "text/x-python",
   "name": "python",
   "nbconvert_exporter": "python",
   "pygments_lexer": "ipython3",
   "version": "3.11.4"
  }
 },
 "nbformat": 4,
 "nbformat_minor": 5
}
